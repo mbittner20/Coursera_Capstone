{
    "cells": [
        {
            "cell_type": "markdown",
            "metadata": {},
            "source": "# Part 1"
        },
        {
            "cell_type": "code",
            "execution_count": 1,
            "metadata": {},
            "outputs": [],
            "source": "import pandas as pd"
        },
        {
            "cell_type": "markdown",
            "metadata": {},
            "source": "Get all the tables from the web page"
        },
        {
            "cell_type": "code",
            "execution_count": 2,
            "metadata": {},
            "outputs": [
                {
                    "data": {
                        "text/plain": "3"
                    },
                    "execution_count": 2,
                    "metadata": {},
                    "output_type": "execute_result"
                }
            ],
            "source": "url = 'https://en.wikipedia.org/wiki/List_of_postal_codes_of_Canada:_M'\ntables = pd.read_html(url)\n\nlen(tables)"
        },
        {
            "cell_type": "markdown",
            "metadata": {},
            "source": "Determine which table contains the neighborhood data"
        },
        {
            "cell_type": "code",
            "execution_count": 3,
            "metadata": {},
            "outputs": [
                {
                    "name": "stdout",
                    "output_type": "stream",
                    "text": "Index 0\n  Postal Code           Borough               Neighborhood\n0         M1A      Not assigned               Not assigned\n1         M2A      Not assigned               Not assigned\n2         M3A        North York                  Parkwoods\n3         M4A        North York           Victoria Village\n4         M5A  Downtown Toronto  Regent Park, Harbourfront\nIndex 1\n                                                  0   \\\n0                                                NaN   \n1  NL NS PE NB QC ON MB SK AB BC NU/NT YT A B C E...   \n2                                                 NL   \n3                                                  A   \n\n                                                  1   \\\n0                              Canadian postal codes   \n1  NL NS PE NB QC ON MB SK AB BC NU/NT YT A B C E...   \n2                                                 NS   \n3                                                  B   \n\n                                                  2    3    4    5    6    7   \\\n0                                                NaN  NaN  NaN  NaN  NaN  NaN   \n1  NL NS PE NB QC ON MB SK AB BC NU/NT YT A B C E...  NaN  NaN  NaN  NaN  NaN   \n2                                                 PE   NB   QC   QC   QC   ON   \n3                                                  C    E    G    H    J    K   \n\n    8    9    10   11   12   13   14   15     16   17  \n0  NaN  NaN  NaN  NaN  NaN  NaN  NaN  NaN    NaN  NaN  \n1  NaN  NaN  NaN  NaN  NaN  NaN  NaN  NaN    NaN  NaN  \n2   ON   ON   ON   ON   MB   SK   AB   BC  NU/NT   YT  \n3    L    M    N    P    R    S    T    V      X    Y  \nIndex 2\n   0   1   2   3   4   5   6   7   8   9   10  11  12  13  14  15     16  17\n0  NL  NS  PE  NB  QC  QC  QC  ON  ON  ON  ON  ON  MB  SK  AB  BC  NU/NT  YT\n1   A   B   C   E   G   H   J   K   L   M   N   P   R   S   T   V      X   Y\n"
                }
            ],
            "source": "for i in range(len(tables)):\n    print('Index', i)\n    print(tables[i].head())"
        },
        {
            "cell_type": "markdown",
            "metadata": {},
            "source": "Save and clean the dataframe"
        },
        {
            "cell_type": "code",
            "execution_count": 4,
            "metadata": {},
            "outputs": [
                {
                    "data": {
                        "text/html": "<div>\n<style scoped>\n    .dataframe tbody tr th:only-of-type {\n        vertical-align: middle;\n    }\n\n    .dataframe tbody tr th {\n        vertical-align: top;\n    }\n\n    .dataframe thead th {\n        text-align: right;\n    }\n</style>\n<table border=\"1\" class=\"dataframe\">\n  <thead>\n    <tr style=\"text-align: right;\">\n      <th></th>\n      <th>Postal Code</th>\n      <th>Borough</th>\n      <th>Neighborhood</th>\n    </tr>\n  </thead>\n  <tbody>\n    <tr>\n      <th>0</th>\n      <td>M3A</td>\n      <td>North York</td>\n      <td>Parkwoods</td>\n    </tr>\n    <tr>\n      <th>1</th>\n      <td>M4A</td>\n      <td>North York</td>\n      <td>Victoria Village</td>\n    </tr>\n    <tr>\n      <th>2</th>\n      <td>M5A</td>\n      <td>Downtown Toronto</td>\n      <td>Regent Park, Harbourfront</td>\n    </tr>\n    <tr>\n      <th>3</th>\n      <td>M6A</td>\n      <td>North York</td>\n      <td>Lawrence Manor, Lawrence Heights</td>\n    </tr>\n    <tr>\n      <th>4</th>\n      <td>M7A</td>\n      <td>Downtown Toronto</td>\n      <td>Queen's Park, Ontario Provincial Government</td>\n    </tr>\n  </tbody>\n</table>\n</div>",
                        "text/plain": "  Postal Code           Borough                                 Neighborhood\n0         M3A        North York                                    Parkwoods\n1         M4A        North York                             Victoria Village\n2         M5A  Downtown Toronto                    Regent Park, Harbourfront\n3         M6A        North York             Lawrence Manor, Lawrence Heights\n4         M7A  Downtown Toronto  Queen's Park, Ontario Provincial Government"
                    },
                    "execution_count": 4,
                    "metadata": {},
                    "output_type": "execute_result"
                }
            ],
            "source": "toronto_df = tables[0]\ntoronto_df = toronto_df[toronto_df['Borough'] != 'Not assigned'].reset_index(drop=True)\ntoronto_df.head()"
        },
        {
            "cell_type": "code",
            "execution_count": 5,
            "metadata": {},
            "outputs": [
                {
                    "data": {
                        "text/plain": "(103, 3)"
                    },
                    "execution_count": 5,
                    "metadata": {},
                    "output_type": "execute_result"
                }
            ],
            "source": "toronto_df.shape"
        }
    ],
    "metadata": {
        "kernelspec": {
            "display_name": "Python 3.6",
            "language": "python",
            "name": "python3"
        },
        "language_info": {
            "codemirror_mode": {
                "name": "ipython",
                "version": 3
            },
            "file_extension": ".py",
            "mimetype": "text/x-python",
            "name": "python",
            "nbconvert_exporter": "python",
            "pygments_lexer": "ipython3",
            "version": "3.6.9"
        }
    },
    "nbformat": 4,
    "nbformat_minor": 1
}