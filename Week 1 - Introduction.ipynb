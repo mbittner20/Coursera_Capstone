{
    "cells": [
        {
            "cell_type": "markdown",
            "metadata": {
                "collapsed": true
            },
            "source": "# The Battle of Neighborhoods Week 1 - Introduction"
        },
        {
            "cell_type": "markdown",
            "metadata": {},
            "source": "While students often make college decisions based on factors such as size, availability of degree programs, and cost, the environment of the campus community is also important. When not studying or attending events on campus, students often go off-campus to socialize, shop, or just get away from campus for a while. Understanding the venues in nearby cities and towns can influence students' decisions, and admissions offices can also consider the advantages of the community when advertising the college. Therefore, for my project I have decided to examine the various four-year colleges in Maryland and cluster them based on proximity to nearby venues such as restaurants and parks. I will also consider whether the size or type of the college is related to the number and types of nearby venues."
        }
    ],
    "metadata": {
        "kernelspec": {
            "display_name": "Python 3.6",
            "language": "python",
            "name": "python3"
        },
        "language_info": {
            "codemirror_mode": {
                "name": "ipython",
                "version": 3
            },
            "file_extension": ".py",
            "mimetype": "text/x-python",
            "name": "python",
            "nbconvert_exporter": "python",
            "pygments_lexer": "ipython3",
            "version": "3.6.9"
        }
    },
    "nbformat": 4,
    "nbformat_minor": 1
}