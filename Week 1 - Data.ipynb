{
    "cells": [
        {
            "cell_type": "markdown",
            "metadata": {
                "collapsed": true
            },
            "source": "# The Battle of Neighborhoods Week 1 - Data"
        },
        {
            "cell_type": "markdown",
            "metadata": {},
            "source": "I will retrieve the list of colleges and universities from Wikipedia. The Wikipedia page will also contain the size of each school and whether the schools are public or private. For simplicity I will limit the list of colleges to four-year undergraduate institutions. The python Nominatim class from the geopy package will be used to obtain latitude and longitude coordinates for each college. The Foursquare API will be used to obtain data about nearby popular venues. The type and location of each venue, as well as its proximity to the corresponding college, will provide insight to the nearby community."
        }
    ],
    "metadata": {
        "kernelspec": {
            "display_name": "Python 3.6",
            "language": "python",
            "name": "python3"
        },
        "language_info": {
            "codemirror_mode": {
                "name": "ipython",
                "version": 3
            },
            "file_extension": ".py",
            "mimetype": "text/x-python",
            "name": "python",
            "nbconvert_exporter": "python",
            "pygments_lexer": "ipython3",
            "version": "3.6.9"
        }
    },
    "nbformat": 4,
    "nbformat_minor": 1
}