{
    "cells": [
        {
            "cell_type": "markdown",
            "metadata": {
                "collapsed": true
            },
            "source": "## Introduction"
        },
        {
            "cell_type": "markdown",
            "metadata": {},
            "source": "While students often make college decisions based on factors such as size, availability of degree programs, and cost, the environment of the campus community is also important. When not studying or attending events on campus, students often go off-campus to socialize, shop, or just get away from campus for a while. Understanding the venues in nearby cities and towns can influence students' decisions, and admissions offices can also consider the advantages of the community when advertising the college. Therefore, for my project I have decided to examine the various four-year colleges in Maryland and cluster them based on proximity to nearby venues such as restaurants and parks. I will also consider whether the size or type of the college is related to the number and types of nearby venues."
        },
        {
            "cell_type": "markdown",
            "metadata": {},
            "source": "## Data"
        },
        {
            "cell_type": "markdown",
            "metadata": {},
            "source": "I will retrieve the list of colleges and universities from Wikipedia. The Wikipedia page will also contain the size of each school and whether the schools are public or private. For simplicity I will limit the list of colleges to four-year undergraduate institutions. The python Nominatim class from the geopy package will be used to obtain latitude and longitude coordinates for each college. The Foursquare API will be used to obtain data about nearby popular venues. The type and location of each venue, as well as its proximity to the corresponding college, will provide insight to the nearby community."
        },
        {
            "cell_type": "markdown",
            "metadata": {},
            "source": "## Methodology"
        },
        {
            "cell_type": "markdown",
            "metadata": {},
            "source": "First I used Nominatim to obtain the coordinates of each college and Fouraquare to obtain the list of nearby venues. I then performed K-Means Clustering to cluster the colleges using the most popular types of venues near each college. This was used in an attempt to describe each campus community. Finally I plotted the number of venues versus the enrollment of each college to determine whether larger colleges had more venues on the general vicinity."
        },
        {
            "cell_type": "markdown",
            "metadata": {},
            "source": "## Results"
        },
        {
            "cell_type": "markdown",
            "metadata": {},
            "source": "The K-Means clustering at k=5 returned four clusters that contained one college each and a final cluster containing the remaining colleges. The plot of number of venues versus enrollment indicated that enrollment had very little effect on the number of venues on the surrounding community."
        },
        {
            "cell_type": "markdown",
            "metadata": {},
            "source": "## Discussion"
        },
        {
            "cell_type": "markdown",
            "metadata": {},
            "source": "The problem with k-means clustering on this particular data set was that the API returned very few venues on some colleges, but many venues on others. This did not provide the type of insight needed to draw any logical conclusions based on K-Means Clustering, especially since the cluster was based purely on venues. This could have been due to insufficient data from the API at each college, or inaccurate coordinates from Nominatim. This also contributed to the lack of a conclusion on the effect of enrollment on the number of venues. If I were to repeat this project I would attempt to find more accurate results for the coordinates of each school, consider other schools in the surrounding region, and attempt to cluster based on other attributes of each school such as cost and total enrollment."
        },
        {
            "cell_type": "markdown",
            "metadata": {},
            "source": "## Conclusion"
        },
        {
            "cell_type": "markdown",
            "metadata": {},
            "source": "Deciding on a college is a very difficult decision. Although the data from Foursquare did not provide any useful conclusions, students should still consider the campus community when selecting a school. Nearby popular venues can contribute to the culture of the campus and provide students with many opportunities to work, study, and socialize."
        }
    ],
    "metadata": {
        "kernelspec": {
            "display_name": "Python 3.6",
            "language": "python",
            "name": "python3"
        },
        "language_info": {
            "codemirror_mode": {
                "name": "ipython",
                "version": 3
            },
            "file_extension": ".py",
            "mimetype": "text/x-python",
            "name": "python",
            "nbconvert_exporter": "python",
            "pygments_lexer": "ipython3",
            "version": "3.6.9"
        }
    },
    "nbformat": 4,
    "nbformat_minor": 1
}